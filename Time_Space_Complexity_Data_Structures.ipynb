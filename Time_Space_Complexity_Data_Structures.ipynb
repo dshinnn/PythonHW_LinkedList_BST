{
 "cells": [
  {
   "cell_type": "markdown",
   "metadata": {},
   "source": [
    "# Time/Space Complexity - Intro to Data Structures (User Defined)\n",
    "\n",
    "### Topics to discuss today:\n",
    "\n",
    "<ul>\n",
    "    <li>Time and Space Complexity - What is it/How do we measure it</li>\n",
    "    <li>Asymptotic Analysis</li>\n",
    "    <li><strong>Data Structures</strong></li>\n",
    "    <li>Some of the popular sorting algorithms</li>\n",
    "</ul>\n",
    "\n",
    "### Data Structures to discuss:\n",
    "- Arrays\n",
    "- Stacks\n",
    "- Queues\n",
    "- Linked Lists\n",
    "    - Singly Linked Lists\n",
    "    - Traversing A Linked List\n",
    "    - Finding a node in a linked list\n",
    "    - Adding to a linked list\n",
    "- Binary Search Trees\n",
    "    - Construction\n",
    "    - Traversal\n"
   ]
  },
  {
   "cell_type": "markdown",
   "metadata": {},
   "source": [
    "## Time and Space Complexity\n",
    "\n",
    "#### What is it?\n",
    "\n",
    "Time and space complexity is the measure of how much time a given action(function) will take to solve a problem. In the same fashion, we determine how much a given data structure will need in terms of memory allocation. A problem can have multiple solutions and finding the optimal solution for the problem needs to be analyzed in time and space.\n",
    "\n",
    "#### How do we measure Time and Space Complexity?\n",
    "\n",
    "In order to measure time and space complexity we use Asymptotic analysis. The reason for this is because we need a way to measure different algorithms (functions) based on the size of their inputs in a mathmatical way. For example, we could have a function that is computed as f(n) and another that is g(n^2). All things around the function staying constant, the only thing that changes is the size of the input. Below is the chart that shows the different Asymptotic analysis formats. "
   ]
  },
  {
   "cell_type": "markdown",
   "metadata": {},
   "source": [
    "<table style=\"text-align:center;\" class=\"table table-bordered\">\n",
    "<tbody><tr>\n",
    "<td>constant</td>\n",
    "<td>−</td>\n",
    "<td>Ο(1)</td>\n",
    "</tr>\n",
    "<tr>\n",
    "<td>logarithmic</td>\n",
    "<td>−</td>\n",
    "<td>Ο(log n)</td>\n",
    "</tr>\n",
    "<tr>\n",
    "<td>linear</td>\n",
    "<td>−</td>\n",
    "<td>Ο(n)</td>\n",
    "</tr>\n",
    "<tr>\n",
    "<td>Linear Logarithmic</td>\n",
    "<td>−</td>\n",
    "<td>Ο(n log n)</td>\n",
    "</tr>\n",
    "<tr>\n",
    "<td>quadratic</td>\n",
    "<td>−</td>\n",
    "<td>Ο(n<sup>2</sup>)</td>\n",
    "</tr>\n",
    "<tr>\n",
    "<td>cubic</td>\n",
    "<td>−</td>\n",
    "<td>Ο(n<sup>3</sup>)</td>\n",
    "</tr>\n",
    "<tr>\n",
    "<td>polynomial</td>\n",
    "<td>−</td>\n",
    "<td>n<sup>Ο(1)</sup></td>\n",
    "</tr>\n",
    "<tr>\n",
    "<td>exponential</td>\n",
    "<td>−</td>\n",
    "<td>2<sup>Ο(n)</sup></td>\n",
    "</tr>\n",
    "</tbody></table>"
   ]
  },
  {
   "cell_type": "markdown",
   "metadata": {},
   "source": [
    "## Arrays"
   ]
  },
  {
   "cell_type": "markdown",
   "metadata": {},
   "source": [
    "In python we benefit from the dynamic array which means the block of memory will expand as needed for the given input to the array. In traditional arrays (depending on the type of operating system) we will usually store our inputs in 4 or 8 consecutive blocks of memory. Below is a diagram of how that looks under the hood:\n",
    "\n",
    "<img src=\"http://www.mathcs.emory.edu/~cheung/Courses/170/Syllabus/09/FIGS/array02x.gif\" style=\"height:250px; width:350px;\">"
   ]
  },
  {
   "cell_type": "markdown",
   "metadata": {},
   "source": [
    "## Which in python looks like this:"
   ]
  },
  {
   "cell_type": "code",
   "execution_count": null,
   "metadata": {},
   "outputs": [],
   "source": []
  },
  {
   "cell_type": "markdown",
   "metadata": {},
   "source": [
    "### Let's take a look at some of the time and space analysis of arrays"
   ]
  },
  {
   "cell_type": "code",
   "execution_count": null,
   "metadata": {},
   "outputs": [],
   "source": []
  },
  {
   "cell_type": "markdown",
   "metadata": {},
   "source": [
    "## Stacks and Queues (Review)\n",
    "\n",
    "** Stacks ** as the name suggests is a data structure that allows for data to follow the Last In First Out priciple(LIFO). Think of a stack of pancakes for example. To get the first pancake you would  start with the top and go down.\n",
    "\n",
    "##### Searching through a stack will be Linear Time O(n) - Constant Space O(1)\n",
    "##### Selecting the last item will be done in Constant Time O(1) - Constant Space O(1)\n",
    "##### Adding to the stack should take Constant Time O(1) - Constant Space O(1)\n",
    "\n",
    "** Queues ** are similar but in this case follow the First In First Out principle(FIFO). Think of this as a line in a black friday sale. The first person camped out for the big screen tv is the first to get it.\n",
    "\n",
    "##### Searching through a queue will be Linear Time O(n) - Constant Space O(1)\n",
    "##### Selecting the first item will be done in Constant Time O(1) - Constant Space O(1)\n",
    "##### Adding to the queue should take Constant Time O(1) - Constant Space O(1)"
   ]
  },
  {
   "cell_type": "code",
   "execution_count": null,
   "metadata": {},
   "outputs": [],
   "source": [
    "# deque from collection has methods for stacks and queues"
   ]
  },
  {
   "cell_type": "markdown",
   "metadata": {},
   "source": [
    "## Linked List (Data Structure)\n",
    "\n",
    "A linked list is created by using the node class. We create a Node object and create another class to use this node object. We pass the appropriate values thorugh the node object to point the to the next data elements.\n",
    "\n",
    "There are some advantages and disadvantages with this data structure. **Advantages** Linked Lists can save memory because they can be flexibile with memory management which saves memory. **Disadvantages** Finding or adding to the list requires traversing the entire list."
   ]
  },
  {
   "cell_type": "code",
   "execution_count": 7,
   "metadata": {},
   "outputs": [
    {
     "name": "stdout",
     "output_type": "stream",
     "text": [
      "Mon\n",
      "Tues\n",
      "Thurs\n"
     ]
    }
   ],
   "source": [
    "class Node():\n",
    "    def __init__(self, value):\n",
    "        self.value = value\n",
    "        self.next = None\n",
    "        \n",
    "    def traverse_list(self):\n",
    "        node = self\n",
    "        while node != None:\n",
    "            print(node.value)\n",
    "            node = node.next\n",
    "            \n",
    "node1 = Node('Mon')\n",
    "node2 = Node('Tues')\n",
    "node3 = Node('Thurs')\n",
    "\n",
    "node1.next = node2\n",
    "node2.next = node3\n",
    "\n",
    "node1.traverse_list()"
   ]
  },
  {
   "cell_type": "code",
   "execution_count": 4,
   "metadata": {
    "scrolled": true
   },
   "outputs": [],
   "source": [
    "# Full LinkedList Implementation\n",
    "class Node():\n",
    "    def __init__(self, value):\n",
    "        self.value = value\n",
    "        self.next = None\n",
    "        \n",
    "    def traverse_list(self):\n",
    "        node = self\n",
    "        while node != None:\n",
    "            print(node.value)\n",
    "            node = node.next\n",
    "            \n",
    "class LinkedList():\n",
    "    def __init__(self):\n",
    "        self.head = None\n",
    "    \n",
    "    # Add a new node to the front of the Linked List\n",
    "    def push_on(self, new_value):\n",
    "        new_node = Node(new_value)\n",
    "        new_node.next = self.head\n",
    "        self.head = new_node\n",
    "        \n",
    "    # Add a new node to the end of the list\n",
    "    def append(self, new_value):\n",
    "        new_node = Node(new_value)\n",
    "        \n",
    "        # check if the linked list is empty\n",
    "        if self.head is None:\n",
    "            self.head = new_node\n",
    "        # if not empty, traverse to the end and set the end to the new node\n",
    "        else:\n",
    "            last = self.head\n",
    "\n",
    "            # Traverses to the end of the Linked List\n",
    "            while last.next:\n",
    "                last = last.next\n",
    "\n",
    "            last.next = new_node\n",
    "        \n",
    "    def insert_after(self, prev_node, new_value):\n",
    "        # Check if the previous node even exists\n",
    "        if prev_node is None:\n",
    "            print('The given previous node must not be empty!')\n",
    "            return\n",
    "        \n",
    "        new_node = Node(new_value)\n",
    "        new_node.next = prev_node.next\n",
    "        prev_node.next = new_node\n",
    "        \n",
    "    def traverse(self):\n",
    "        node = self.head\n",
    "        while node:\n",
    "            print(node.value)\n",
    "            node = node.next\n",
    "\n",
    "\n",
    "weekday_links = LinkedList()\n",
    "weekday_links.push_on('Monday')\n",
    "weekday_links.append('Tuesday')\n",
    "weekday_links.append('Thursday')\n",
    "weekday_links.insert_after(weekday_links.head.next, 'Wednesday')\n",
    "weekday_links.push_on('Sunday')"
   ]
  },
  {
   "cell_type": "code",
   "execution_count": 9,
   "metadata": {},
   "outputs": [
    {
     "data": {
      "text/plain": [
       "5"
      ]
     },
     "execution_count": 9,
     "metadata": {},
     "output_type": "execute_result"
    }
   ],
   "source": [
    "new_node = Node(5)\n",
    "new_node.value"
   ]
  },
  {
   "cell_type": "code",
   "execution_count": 22,
   "metadata": {},
   "outputs": [
    {
     "name": "stdout",
     "output_type": "stream",
     "text": [
      "Sunday\n",
      "Monday\n",
      "Tuesday\n",
      "Wednesday\n",
      "Thursday\n"
     ]
    }
   ],
   "source": [
    "weekday_links.traverse()"
   ]
  },
  {
   "cell_type": "code",
   "execution_count": 28,
   "metadata": {},
   "outputs": [
    {
     "data": {
      "text/plain": [
       "'Monday'"
      ]
     },
     "execution_count": 28,
     "metadata": {},
     "output_type": "execute_result"
    }
   ],
   "source": [
    "weekday_links.head.next.value"
   ]
  },
  {
   "cell_type": "code",
   "execution_count": null,
   "metadata": {},
   "outputs": [],
   "source": [
    "while i != 0:\n",
    "    i -= 1"
   ]
  },
  {
   "cell_type": "markdown",
   "metadata": {},
   "source": [
    "## Binary Search Trees"
   ]
  },
  {
   "cell_type": "code",
   "execution_count": 34,
   "metadata": {},
   "outputs": [],
   "source": [
    "class BST():\n",
    "    def __init__(self, value):\n",
    "        self.value = value\n",
    "        self.left = None\n",
    "        self.right = None \n",
    "        \n",
    "    def insert(self, new_value):\n",
    "        # Inserts to the left side\n",
    "        if new_value < self.value:\n",
    "            if self.left is None:\n",
    "                self.left = BST(new_value)\n",
    "            else:\n",
    "                self.left.insert(new_value)\n",
    "        # Inserts to the right side\n",
    "        else:\n",
    "            if self.right is None:\n",
    "                self.right = BST(new_value)\n",
    "            else:\n",
    "                self.right.insert(new_value)\n",
    "                \n",
    "    def contains(self, target):\n",
    "        # Checks left side\n",
    "        if target < self.value:\n",
    "            if self.left is None:\n",
    "                return False\n",
    "            else:\n",
    "                return self.left.contains(target)\n",
    "        # Checks right side\n",
    "        elif target > self.value:\n",
    "            if self.right is None:\n",
    "                return False\n",
    "            else:\n",
    "                return self.right.contains(target)\n",
    "        else:\n",
    "            return True"
   ]
  },
  {
   "cell_type": "code",
   "execution_count": null,
   "metadata": {},
   "outputs": [],
   "source": [
    "bst = BST(50)\n",
    "bst.insert(45)\n",
    "bst.insert(40)"
   ]
  },
  {
   "cell_type": "markdown",
   "metadata": {},
   "source": [
    "# Homework"
   ]
  },
  {
   "cell_type": "markdown",
   "metadata": {},
   "source": [
    "#### Problem 1: Linked Lists\n",
    "\n",
    "Using the above examples as a guide, create your own interpretation of the a Linked List class. You can not use the code above exactly, but again it can be used as a guide. This problem requires you to think about how a linked list works and create one using your own logic.\n",
    "\n",
    "*Remember* A Linked List is a list of Nodes that point to the next node in the chain. The first Node starts out as Empty(None) and each node after points to the next.\n",
    "\n",
    "Your Linked List should have a traverse method and have the ability to add a new node"
   ]
  },
  {
   "cell_type": "code",
   "execution_count": 61,
   "metadata": {
    "scrolled": false
   },
   "outputs": [
    {
     "name": "stdout",
     "output_type": "stream",
     "text": [
      "100\n",
      "10\n",
      "30\n",
      "50\n",
      "Value has been removed!\n"
     ]
    }
   ],
   "source": [
    "class Node():\n",
    "    # Runs when a node is instantiated\n",
    "    def __init__(self, value):\n",
    "        self.value = value\n",
    "        self.next = None\n",
    "\n",
    "class My_Linked_List():\n",
    "    def __init__(self):\n",
    "        self.head = None\n",
    "        \n",
    "    def add_to_end(self, value):\n",
    "        new_node = Node(value)\n",
    "        \n",
    "        # If the Linked List is empty, set the head as new_node\n",
    "        if self.head:\n",
    "            temp_node = self.head\n",
    "            \n",
    "            # Traverse to the end of the Linked List\n",
    "            while temp_node.next:\n",
    "                temp_node = temp_node.next\n",
    "            temp_node.next = new_node \n",
    "        \n",
    "        else:\n",
    "            self.head = new_node\n",
    "    \n",
    "    def add_to_front(self, value):\n",
    "        new_node = Node(value)\n",
    "        # Makes the new_node.next the current head's next\n",
    "        new_node.next = self.head\n",
    "        # Then set the new_node as the head\n",
    "        self.head = new_node\n",
    "\n",
    "    def add_after(self, target_node, value):\n",
    "        if not target_node:\n",
    "            print('Previous node cannot be empty!')\n",
    "            return\n",
    "        else:\n",
    "            new_node = Node(value)\n",
    "            new_node.next = target_node.next\n",
    "            target_node.next = new_node\n",
    "    \n",
    "    def remove(self, value):\n",
    "        prev_node = self.head\n",
    "        \n",
    "        while prev_node.next:            \n",
    "            if prev_node.next.value == value:\n",
    "                prev_node.next = prev_node.next.next\n",
    "                return f'{value} has been removed!'\n",
    "            prev_node = prev_node.next\n",
    "        return f'{value} NOT found!'\n",
    "    \n",
    "    def traverse(self):\n",
    "        temp_node = self.head\n",
    "        while temp_node:\n",
    "            print(temp_node.value)\n",
    "            temp_node = temp_node.next\n",
    "                \n",
    "test = My_Linked_List()\n",
    "test.add_to_end(10)\n",
    "test.add_to_end(50)\n",
    "test.add_to_front(100)\n",
    "test.add_after(test.head.next, 30)\n",
    "test.traverse()\n",
    "print(test.remove(30))\n"
   ]
  },
  {
   "cell_type": "code",
   "execution_count": 42,
   "metadata": {},
   "outputs": [
    {
     "data": {
      "text/plain": [
       "50"
      ]
     },
     "execution_count": 42,
     "metadata": {},
     "output_type": "execute_result"
    }
   ],
   "source": [
    "test = My_Linked_List()\n",
    "test.add_to_end(10)\n",
    "test.add_to_end(50)\n",
    "test.head.value\n",
    "test.head.next.value"
   ]
  },
  {
   "cell_type": "markdown",
   "metadata": {},
   "source": [
    "#### Problem 2: Binary Search Tree\n",
    "\n",
    "Using the above examples as a guide, create your own interpretation of the a Binary Search Tree class. You can not use the code above exactly, but again it can be used as a guide. This problem requires you to think about how a Binary Search Tree works and create one using your own logic.\n",
    "\n",
    "*Remember* Binary Search Trees start with a head node and each node to the left of that will be smaller, each node to the right of it will be greater. The far left node should be the lowest number(if one exists) that is available. The far right node (if one exists) should be the greatest number"
   ]
  },
  {
   "cell_type": "code",
   "execution_count": 85,
   "metadata": {},
   "outputs": [],
   "source": [
    "class My_BST():\n",
    "    def __init__(self, value):\n",
    "        self.left = None\n",
    "        self.right = None\n",
    "        self.root = value\n",
    "    \n",
    "    # Inserts value as a new leaf node\n",
    "    def insert(self, new_value):\n",
    "        # if the root is NOT empty\n",
    "        if self.root:\n",
    "            # Checks if the new_value should be inserted on the left side\n",
    "            if new_value < self.root:\n",
    "                if self.left is None:\n",
    "                    self.left = My_BST(new_value)\n",
    "                else:\n",
    "                    self.left.insert(new_value)\n",
    "            elif new_value > self.root:\n",
    "                if self.right is None:\n",
    "                    self.right = My_BST(new_value)\n",
    "                else:\n",
    "                    self.right.insert(new_value)\n",
    "        # if the root is None\n",
    "        else:\n",
    "            self.root = new_value\n",
    "    \n",
    "    # checks if the specified value is in the BST\n",
    "    def contains(self, value):\n",
    "        # checks the left side of the BST\n",
    "        if value < self.root:\n",
    "            # if the end of the BST was reached and the value was NOT found on the left side\n",
    "            if self.left is None:\n",
    "                return False\n",
    "            # recursively traverses the left subtree of the BST until the value is found or it \n",
    "            # reaches the end\n",
    "            else:\n",
    "                return self.left.contains(value)\n",
    "        # checks the right side of the BST\n",
    "        elif value > self.root:\n",
    "            # if the end of the BST was reached and the value was NOT found on the left side\n",
    "            if self.right is None:\n",
    "                return False\n",
    "            # recursively traverses the right subtree of the BST until the value is found or it \n",
    "            # reaches the end\n",
    "            else:\n",
    "                return self.right.contains(value)\n",
    "        # if the value is found\n",
    "        else:\n",
    "            return True\n",
    "\n",
    "bst = My_BST(50)\n",
    "# Tests left side insert\n",
    "bst.insert(45)\n",
    "bst.insert(40)\n",
    "# Tests left then right insert\n",
    "bst.insert(47)\n",
    "# Tests right side insert\n",
    "bst.insert(60)\n",
    "bst.insert(65)\n",
    "# Tests right then left insert\n",
    "bst.insert(64)\n",
    "print(bst.contains(30))"
   ]
  }
 ],
 "metadata": {
  "kernelspec": {
   "display_name": "Python 3",
   "language": "python",
   "name": "python3"
  },
  "language_info": {
   "codemirror_mode": {
    "name": "ipython",
    "version": 3
   },
   "file_extension": ".py",
   "mimetype": "text/x-python",
   "name": "python",
   "nbconvert_exporter": "python",
   "pygments_lexer": "ipython3",
   "version": "3.8.8"
  },
  "toc": {
   "base_numbering": 1,
   "nav_menu": {},
   "number_sections": true,
   "sideBar": true,
   "skip_h1_title": false,
   "title_cell": "Table of Contents",
   "title_sidebar": "Contents",
   "toc_cell": false,
   "toc_position": {},
   "toc_section_display": true,
   "toc_window_display": false
  }
 },
 "nbformat": 4,
 "nbformat_minor": 2
}
